{
 "cells": [
  {
   "cell_type": "markdown",
   "metadata": {
    "colab_type": "text",
    "id": "nGiIgx6PQR_i"
   },
   "source": [
    "#Mask R-CNN instance segmentation with custom dataset in Google Colab\n",
    "Jupyter notebook providing steps to train a **Matterport Mask R-CNN** model with custom dataset.\n",
    "\n",
    "It runs in [Google Colab](https://colab.research.google.com/) using [Matterport framework](https://github.com/matterport/Mask_RCNN) with TensorFlow backend.\n",
    "\n",
    "**Requirements are only dataset images and annotations file.**\n",
    "\n",
    "**Colab Runtime type: Python3, GPU enabled.**"
   ]
  },
  {
   "cell_type": "markdown",
   "metadata": {
    "colab_type": "text",
    "id": "umEL6-vlmXmj"
   },
   "source": [
    "#Making Dataset\n",
    "I generated dataset annotations with [VGG Image Annotator](http://www.robots.ox.ac.uk/~vgg/software/via/).\n",
    "\n",
    "Notebook train a model for one class object detection. It is possible to slightly modify notebook to train model for multiple classes.\n",
    "\n",
    "Before running notebook, we need to create dataset:\n",
    "\n",
    "\n",
    "1.   Collect various pictures of objects to detect\n",
    "3.   Create annotation files in VGG\n",
    "4.   Create image.zip file having structure defined below\n",
    "5.   Upload the zip file in your Google Drive\n",
    "\n",
    "Zip file structure:\n",
    "```\n",
    "images.zip\n",
    "|- \"train\" directory\n",
    "  |- jpg image files of training data\n",
    "  |- \"via_region_data.json\" annotations file of training data\n",
    "|- \"val\" directory\n",
    "  |- jpg image files of validation data\n",
    "  |- \"via_region_data.json\" annotations file of validation data\n",
    "```\n",
    "Check my image.zip file as dataset example."
   ]
  },
  {
   "cell_type": "markdown",
   "metadata": {
    "colab_type": "text",
    "id": "ywU9FM5qn6Wx"
   },
   "source": [
    "#Install required packages"
   ]
  },
  {
   "cell_type": "code",
   "execution_count": 1,
   "metadata": {
    "colab": {
     "base_uri": "https://localhost:8080/",
     "height": 34
    },
    "colab_type": "code",
    "id": "39Wtm53bG7xW",
    "outputId": "a77016dd-a63b-4a60-e986-b761e96954a5"
   },
   "outputs": [],
   "source": [
    "# %cd\n",
    "  \n",
    "# !git clone --quiet https://github.com/richhosek/Mask_RCNN.git"
   ]
  },
  {
   "cell_type": "code",
   "execution_count": 8,
   "metadata": {
    "colab": {
     "base_uri": "https://localhost:8080/",
     "height": 1000
    },
    "colab_type": "code",
    "id": "GZY2h5buS9xb",
    "outputId": "67e95ee3-e117-473f-da9f-7269685e24a4"
   },
   "outputs": [
    {
     "name": "stdout",
     "output_type": "stream",
     "text": [
      "Requirement already satisfied: numpy in c:\\users\\richh\\.conda\\envs\\python 3-6\\lib\\site-packages (from -r requirements.txt (line 1)) (1.19.1)\n",
      "Requirement already satisfied: scipy in c:\\users\\richh\\.conda\\envs\\python 3-6\\lib\\site-packages (from -r requirements.txt (line 2)) (1.5.2)\n",
      "Requirement already satisfied: Pillow in c:\\users\\richh\\.conda\\envs\\python 3-6\\lib\\site-packages (from -r requirements.txt (line 3)) (7.2.0)\n",
      "Requirement already satisfied: cython in c:\\users\\richh\\.conda\\envs\\python 3-6\\lib\\site-packages (from -r requirements.txt (line 4)) (0.29.21)\n",
      "Requirement already satisfied: matplotlib in c:\\users\\richh\\.conda\\envs\\python 3-6\\lib\\site-packages (from -r requirements.txt (line 5)) (3.3.1)\n",
      "Requirement already satisfied: scikit-image in c:\\users\\richh\\.conda\\envs\\python 3-6\\lib\\site-packages (from -r requirements.txt (line 6)) (0.17.2)\n",
      "Requirement already satisfied: tensorflow==1.13.2 in c:\\users\\richh\\.conda\\envs\\python 3-6\\lib\\site-packages (from -r requirements.txt (line 7)) (1.13.2)\n",
      "Requirement already satisfied: tensorflow-gpu==1.13.2 in c:\\users\\richh\\.conda\\envs\\python 3-6\\lib\\site-packages (from -r requirements.txt (line 8)) (1.13.2)\n",
      "Requirement already satisfied: keras==2.1.5 in c:\\users\\richh\\.conda\\envs\\python 3-6\\lib\\site-packages (from -r requirements.txt (line 9)) (2.1.5)\n",
      "Requirement already satisfied: opencv-python in c:\\users\\richh\\.conda\\envs\\python 3-6\\lib\\site-packages (from -r requirements.txt (line 10)) (4.4.0.42)\n",
      "Requirement already satisfied: h5py in c:\\users\\richh\\.conda\\envs\\python 3-6\\lib\\site-packages (from -r requirements.txt (line 11)) (2.10.0)\n",
      "Requirement already satisfied: imgaug in c:\\users\\richh\\.conda\\envs\\python 3-6\\lib\\site-packages (from -r requirements.txt (line 12)) (0.4.0)\n",
      "Requirement already satisfied: IPython[all] in c:\\users\\richh\\.conda\\envs\\python 3-6\\lib\\site-packages (from -r requirements.txt (line 13)) (7.16.1)\n",
      "Requirement already satisfied: cycler>=0.10 in c:\\users\\richh\\.conda\\envs\\python 3-6\\lib\\site-packages (from matplotlib->-r requirements.txt (line 5)) (0.10.0)\n",
      "Requirement already satisfied: pyparsing!=2.0.4,!=2.1.2,!=2.1.6,>=2.0.3 in c:\\users\\richh\\.conda\\envs\\python 3-6\\lib\\site-packages (from matplotlib->-r requirements.txt (line 5)) (2.4.7)\n",
      "Requirement already satisfied: python-dateutil>=2.1 in c:\\users\\richh\\.conda\\envs\\python 3-6\\lib\\site-packages (from matplotlib->-r requirements.txt (line 5)) (2.8.1)\n",
      "Requirement already satisfied: kiwisolver>=1.0.1 in c:\\users\\richh\\.conda\\envs\\python 3-6\\lib\\site-packages (from matplotlib->-r requirements.txt (line 5)) (1.2.0)\n",
      "Requirement already satisfied: certifi>=2020.06.20 in c:\\users\\richh\\.conda\\envs\\python 3-6\\lib\\site-packages (from matplotlib->-r requirements.txt (line 5)) (2020.6.20)\n",
      "Requirement already satisfied: PyWavelets>=1.1.1 in c:\\users\\richh\\.conda\\envs\\python 3-6\\lib\\site-packages (from scikit-image->-r requirements.txt (line 6)) (1.1.1)\n",
      "Requirement already satisfied: imageio>=2.3.0 in c:\\users\\richh\\.conda\\envs\\python 3-6\\lib\\site-packages (from scikit-image->-r requirements.txt (line 6)) (2.9.0)\n",
      "Requirement already satisfied: networkx>=2.0 in c:\\users\\richh\\.conda\\envs\\python 3-6\\lib\\site-packages (from scikit-image->-r requirements.txt (line 6)) (2.5)\n",
      "Requirement already satisfied: tifffile>=2019.7.26 in c:\\users\\richh\\.conda\\envs\\python 3-6\\lib\\site-packages (from scikit-image->-r requirements.txt (line 6)) (2020.8.25)\n",
      "Requirement already satisfied: tensorflow-estimator<1.14.0rc0,>=1.13.0 in c:\\users\\richh\\.conda\\envs\\python 3-6\\lib\\site-packages (from tensorflow==1.13.2->-r requirements.txt (line 7)) (1.13.0)\n",
      "Requirement already satisfied: termcolor>=1.1.0 in c:\\users\\richh\\.conda\\envs\\python 3-6\\lib\\site-packages (from tensorflow==1.13.2->-r requirements.txt (line 7)) (1.1.0)\n",
      "Requirement already satisfied: gast>=0.2.0 in c:\\users\\richh\\.conda\\envs\\python 3-6\\lib\\site-packages (from tensorflow==1.13.2->-r requirements.txt (line 7)) (0.4.0)\n",
      "Requirement already satisfied: grpcio>=1.8.6 in c:\\users\\richh\\.conda\\envs\\python 3-6\\lib\\site-packages (from tensorflow==1.13.2->-r requirements.txt (line 7)) (1.31.0)\n",
      "Requirement already satisfied: absl-py>=0.1.6 in c:\\users\\richh\\.conda\\envs\\python 3-6\\lib\\site-packages (from tensorflow==1.13.2->-r requirements.txt (line 7)) (0.10.0)\n",
      "Requirement already satisfied: protobuf>=3.6.1 in c:\\users\\richh\\.conda\\envs\\python 3-6\\lib\\site-packages (from tensorflow==1.13.2->-r requirements.txt (line 7)) (3.13.0)\n",
      "Requirement already satisfied: tensorboard<1.14.0,>=1.13.0 in c:\\users\\richh\\.conda\\envs\\python 3-6\\lib\\site-packages (from tensorflow==1.13.2->-r requirements.txt (line 7)) (1.13.1)\n",
      "Requirement already satisfied: wheel>=0.26 in c:\\users\\richh\\.conda\\envs\\python 3-6\\lib\\site-packages (from tensorflow==1.13.2->-r requirements.txt (line 7)) (0.35.1)\n",
      "Requirement already satisfied: keras-preprocessing>=1.0.5 in c:\\users\\richh\\.conda\\envs\\python 3-6\\lib\\site-packages (from tensorflow==1.13.2->-r requirements.txt (line 7)) (1.1.2)\n",
      "Requirement already satisfied: six>=1.10.0 in c:\\users\\richh\\.conda\\envs\\python 3-6\\lib\\site-packages (from tensorflow==1.13.2->-r requirements.txt (line 7)) (1.15.0)\n",
      "Requirement already satisfied: keras-applications>=1.0.6 in c:\\users\\richh\\.conda\\envs\\python 3-6\\lib\\site-packages (from tensorflow==1.13.2->-r requirements.txt (line 7)) (1.0.8)\n",
      "Requirement already satisfied: astor>=0.6.0 in c:\\users\\richh\\.conda\\envs\\python 3-6\\lib\\site-packages (from tensorflow==1.13.2->-r requirements.txt (line 7)) (0.8.1)\n",
      "Requirement already satisfied: pyyaml in c:\\users\\richh\\.conda\\envs\\python 3-6\\lib\\site-packages (from keras==2.1.5->-r requirements.txt (line 9)) (5.3.1)\n",
      "Requirement already satisfied: Shapely in c:\\users\\richh\\.conda\\envs\\python 3-6\\lib\\site-packages (from imgaug->-r requirements.txt (line 12)) (1.7.1)\n",
      "Requirement already satisfied: backcall in c:\\users\\richh\\.conda\\envs\\python 3-6\\lib\\site-packages (from IPython[all]->-r requirements.txt (line 13)) (0.2.0)\n",
      "Requirement already satisfied: setuptools>=18.5 in c:\\users\\richh\\.conda\\envs\\python 3-6\\lib\\site-packages (from IPython[all]->-r requirements.txt (line 13)) (49.6.0.post20200814)\n",
      "Requirement already satisfied: colorama; sys_platform == \"win32\" in c:\\users\\richh\\.conda\\envs\\python 3-6\\lib\\site-packages (from IPython[all]->-r requirements.txt (line 13)) (0.4.3)\n",
      "Requirement already satisfied: prompt-toolkit!=3.0.0,!=3.0.1,<3.1.0,>=2.0.0 in c:\\users\\richh\\.conda\\envs\\python 3-6\\lib\\site-packages (from IPython[all]->-r requirements.txt (line 13)) (3.0.7)\n",
      "Requirement already satisfied: pygments in c:\\users\\richh\\.conda\\envs\\python 3-6\\lib\\site-packages (from IPython[all]->-r requirements.txt (line 13)) (2.6.1)\n",
      "Requirement already satisfied: decorator in c:\\users\\richh\\.conda\\envs\\python 3-6\\lib\\site-packages (from IPython[all]->-r requirements.txt (line 13)) (4.4.2)\n",
      "Requirement already satisfied: jedi>=0.10 in c:\\users\\richh\\.conda\\envs\\python 3-6\\lib\\site-packages (from IPython[all]->-r requirements.txt (line 13)) (0.17.2)\n",
      "Requirement already satisfied: pickleshare in c:\\users\\richh\\.conda\\envs\\python 3-6\\lib\\site-packages (from IPython[all]->-r requirements.txt (line 13)) (0.7.5)\n",
      "Requirement already satisfied: traitlets>=4.2 in c:\\users\\richh\\.conda\\envs\\python 3-6\\lib\\site-packages (from IPython[all]->-r requirements.txt (line 13)) (4.3.3)\n",
      "Requirement already satisfied: nose>=0.10.1; extra == \"all\" in c:\\users\\richh\\.conda\\envs\\python 3-6\\lib\\site-packages (from IPython[all]->-r requirements.txt (line 13)) (1.3.7)\n",
      "Requirement already satisfied: notebook; extra == \"all\" in c:\\users\\richh\\.conda\\envs\\python 3-6\\lib\\site-packages (from IPython[all]->-r requirements.txt (line 13)) (6.1.1)\n",
      "Requirement already satisfied: nbformat; extra == \"all\" in c:\\users\\richh\\.conda\\envs\\python 3-6\\lib\\site-packages (from IPython[all]->-r requirements.txt (line 13)) (5.0.7)\n",
      "Requirement already satisfied: ipykernel; extra == \"all\" in c:\\users\\richh\\.conda\\envs\\python 3-6\\lib\\site-packages (from IPython[all]->-r requirements.txt (line 13)) (5.3.4)\n",
      "Requirement already satisfied: Sphinx>=1.3; extra == \"all\" in c:\\users\\richh\\.conda\\envs\\python 3-6\\lib\\site-packages (from IPython[all]->-r requirements.txt (line 13)) (3.2.1)\n",
      "Requirement already satisfied: testpath; extra == \"all\" in c:\\users\\richh\\.conda\\envs\\python 3-6\\lib\\site-packages (from IPython[all]->-r requirements.txt (line 13)) (0.4.4)\n",
      "Requirement already satisfied: requests; extra == \"all\" in c:\\users\\richh\\.conda\\envs\\python 3-6\\lib\\site-packages (from IPython[all]->-r requirements.txt (line 13)) (2.24.0)\n",
      "Requirement already satisfied: ipyparallel; extra == \"all\" in c:\\users\\richh\\.conda\\envs\\python 3-6\\lib\\site-packages (from IPython[all]->-r requirements.txt (line 13)) (6.3.0)\n",
      "Requirement already satisfied: nbconvert; extra == \"all\" in c:\\users\\richh\\.conda\\envs\\python 3-6\\lib\\site-packages (from IPython[all]->-r requirements.txt (line 13)) (5.6.1)\n",
      "Requirement already satisfied: ipywidgets; extra == \"all\" in c:\\users\\richh\\.conda\\envs\\python 3-6\\lib\\site-packages (from IPython[all]->-r requirements.txt (line 13)) (7.5.1)\n",
      "Requirement already satisfied: qtconsole; extra == \"all\" in c:\\users\\richh\\.conda\\envs\\python 3-6\\lib\\site-packages (from IPython[all]->-r requirements.txt (line 13)) (4.7.6)\n",
      "Requirement already satisfied: mock>=2.0.0 in c:\\users\\richh\\.conda\\envs\\python 3-6\\lib\\site-packages (from tensorflow-estimator<1.14.0rc0,>=1.13.0->tensorflow==1.13.2->-r requirements.txt (line 7)) (4.0.2)\n",
      "Requirement already satisfied: werkzeug>=0.11.15 in c:\\users\\richh\\.conda\\envs\\python 3-6\\lib\\site-packages (from tensorboard<1.14.0,>=1.13.0->tensorflow==1.13.2->-r requirements.txt (line 7)) (1.0.1)\n",
      "Requirement already satisfied: markdown>=2.6.8 in c:\\users\\richh\\.conda\\envs\\python 3-6\\lib\\site-packages (from tensorboard<1.14.0,>=1.13.0->tensorflow==1.13.2->-r requirements.txt (line 7)) (3.2.2)\n",
      "Requirement already satisfied: wcwidth in c:\\users\\richh\\.conda\\envs\\python 3-6\\lib\\site-packages (from prompt-toolkit!=3.0.0,!=3.0.1,<3.1.0,>=2.0.0->IPython[all]->-r requirements.txt (line 13)) (0.2.5)\n",
      "Requirement already satisfied: parso<0.8.0,>=0.7.0 in c:\\users\\richh\\.conda\\envs\\python 3-6\\lib\\site-packages (from jedi>=0.10->IPython[all]->-r requirements.txt (line 13)) (0.7.0)\n",
      "Requirement already satisfied: ipython-genutils in c:\\users\\richh\\.conda\\envs\\python 3-6\\lib\\site-packages (from traitlets>=4.2->IPython[all]->-r requirements.txt (line 13)) (0.2.0)\n",
      "Requirement already satisfied: jupyter-core>=4.6.1 in c:\\users\\richh\\.conda\\envs\\python 3-6\\lib\\site-packages (from notebook; extra == \"all\"->IPython[all]->-r requirements.txt (line 13)) (4.6.3)\n",
      "Requirement already satisfied: argon2-cffi in c:\\users\\richh\\.conda\\envs\\python 3-6\\lib\\site-packages (from notebook; extra == \"all\"->IPython[all]->-r requirements.txt (line 13)) (20.1.0)\n",
      "Requirement already satisfied: prometheus-client in c:\\users\\richh\\.conda\\envs\\python 3-6\\lib\\site-packages (from notebook; extra == \"all\"->IPython[all]->-r requirements.txt (line 13)) (0.8.0)\n",
      "Requirement already satisfied: jinja2 in c:\\users\\richh\\.conda\\envs\\python 3-6\\lib\\site-packages (from notebook; extra == \"all\"->IPython[all]->-r requirements.txt (line 13)) (2.11.2)\n",
      "Requirement already satisfied: jupyter-client>=5.3.4 in c:\\users\\richh\\.conda\\envs\\python 3-6\\lib\\site-packages (from notebook; extra == \"all\"->IPython[all]->-r requirements.txt (line 13)) (6.1.6)\n",
      "Requirement already satisfied: terminado>=0.8.3 in c:\\users\\richh\\.conda\\envs\\python 3-6\\lib\\site-packages (from notebook; extra == \"all\"->IPython[all]->-r requirements.txt (line 13)) (0.8.3)\n",
      "Requirement already satisfied: Send2Trash in c:\\users\\richh\\.conda\\envs\\python 3-6\\lib\\site-packages (from notebook; extra == \"all\"->IPython[all]->-r requirements.txt (line 13)) (1.5.0)\n",
      "Requirement already satisfied: pyzmq>=17 in c:\\users\\richh\\.conda\\envs\\python 3-6\\lib\\site-packages (from notebook; extra == \"all\"->IPython[all]->-r requirements.txt (line 13)) (19.0.1)\n",
      "Requirement already satisfied: tornado>=5.0 in c:\\users\\richh\\.conda\\envs\\python 3-6\\lib\\site-packages (from notebook; extra == \"all\"->IPython[all]->-r requirements.txt (line 13)) (6.0.4)\n",
      "Requirement already satisfied: jsonschema!=2.5.0,>=2.4 in c:\\users\\richh\\.conda\\envs\\python 3-6\\lib\\site-packages (from nbformat; extra == \"all\"->IPython[all]->-r requirements.txt (line 13)) (3.2.0)\n",
      "Requirement already satisfied: babel>=1.3 in c:\\users\\richh\\.conda\\envs\\python 3-6\\lib\\site-packages (from Sphinx>=1.3; extra == \"all\"->IPython[all]->-r requirements.txt (line 13)) (2.8.0)\n",
      "Requirement already satisfied: packaging in c:\\users\\richh\\.conda\\envs\\python 3-6\\lib\\site-packages (from Sphinx>=1.3; extra == \"all\"->IPython[all]->-r requirements.txt (line 13)) (20.4)\n",
      "Requirement already satisfied: sphinxcontrib-serializinghtml in c:\\users\\richh\\.conda\\envs\\python 3-6\\lib\\site-packages (from Sphinx>=1.3; extra == \"all\"->IPython[all]->-r requirements.txt (line 13)) (1.1.4)\n",
      "Requirement already satisfied: alabaster<0.8,>=0.7 in c:\\users\\richh\\.conda\\envs\\python 3-6\\lib\\site-packages (from Sphinx>=1.3; extra == \"all\"->IPython[all]->-r requirements.txt (line 13)) (0.7.12)\n",
      "Requirement already satisfied: docutils>=0.12 in c:\\users\\richh\\.conda\\envs\\python 3-6\\lib\\site-packages (from Sphinx>=1.3; extra == \"all\"->IPython[all]->-r requirements.txt (line 13)) (0.16)\n",
      "Requirement already satisfied: imagesize in c:\\users\\richh\\.conda\\envs\\python 3-6\\lib\\site-packages (from Sphinx>=1.3; extra == \"all\"->IPython[all]->-r requirements.txt (line 13)) (1.2.0)\n",
      "Requirement already satisfied: snowballstemmer>=1.1 in c:\\users\\richh\\.conda\\envs\\python 3-6\\lib\\site-packages (from Sphinx>=1.3; extra == \"all\"->IPython[all]->-r requirements.txt (line 13)) (2.0.0)\n",
      "Requirement already satisfied: sphinxcontrib-devhelp in c:\\users\\richh\\.conda\\envs\\python 3-6\\lib\\site-packages (from Sphinx>=1.3; extra == \"all\"->IPython[all]->-r requirements.txt (line 13)) (1.0.2)\n",
      "Requirement already satisfied: sphinxcontrib-jsmath in c:\\users\\richh\\.conda\\envs\\python 3-6\\lib\\site-packages (from Sphinx>=1.3; extra == \"all\"->IPython[all]->-r requirements.txt (line 13)) (1.0.1)\n",
      "Requirement already satisfied: sphinxcontrib-htmlhelp in c:\\users\\richh\\.conda\\envs\\python 3-6\\lib\\site-packages (from Sphinx>=1.3; extra == \"all\"->IPython[all]->-r requirements.txt (line 13)) (1.0.3)\n",
      "Requirement already satisfied: sphinxcontrib-qthelp in c:\\users\\richh\\.conda\\envs\\python 3-6\\lib\\site-packages (from Sphinx>=1.3; extra == \"all\"->IPython[all]->-r requirements.txt (line 13)) (1.0.3)\n",
      "Requirement already satisfied: sphinxcontrib-applehelp in c:\\users\\richh\\.conda\\envs\\python 3-6\\lib\\site-packages (from Sphinx>=1.3; extra == \"all\"->IPython[all]->-r requirements.txt (line 13)) (1.0.2)\n",
      "Requirement already satisfied: chardet<4,>=3.0.2 in c:\\users\\richh\\.conda\\envs\\python 3-6\\lib\\site-packages (from requests; extra == \"all\"->IPython[all]->-r requirements.txt (line 13)) (3.0.4)\n",
      "Requirement already satisfied: urllib3!=1.25.0,!=1.25.1,<1.26,>=1.21.1 in c:\\users\\richh\\.conda\\envs\\python 3-6\\lib\\site-packages (from requests; extra == \"all\"->IPython[all]->-r requirements.txt (line 13)) (1.25.10)\n",
      "Requirement already satisfied: idna<3,>=2.5 in c:\\users\\richh\\.conda\\envs\\python 3-6\\lib\\site-packages (from requests; extra == \"all\"->IPython[all]->-r requirements.txt (line 13)) (2.10)\n",
      "Requirement already satisfied: bleach in c:\\users\\richh\\.conda\\envs\\python 3-6\\lib\\site-packages (from nbconvert; extra == \"all\"->IPython[all]->-r requirements.txt (line 13)) (3.1.5)\n",
      "Requirement already satisfied: pandocfilters>=1.4.1 in c:\\users\\richh\\.conda\\envs\\python 3-6\\lib\\site-packages (from nbconvert; extra == \"all\"->IPython[all]->-r requirements.txt (line 13)) (1.4.2)\n",
      "Requirement already satisfied: entrypoints>=0.2.2 in c:\\users\\richh\\.conda\\envs\\python 3-6\\lib\\site-packages (from nbconvert; extra == \"all\"->IPython[all]->-r requirements.txt (line 13)) (0.3)\n",
      "Requirement already satisfied: defusedxml in c:\\users\\richh\\.conda\\envs\\python 3-6\\lib\\site-packages (from nbconvert; extra == \"all\"->IPython[all]->-r requirements.txt (line 13)) (0.6.0)\n",
      "Requirement already satisfied: mistune<2,>=0.8.1 in c:\\users\\richh\\.conda\\envs\\python 3-6\\lib\\site-packages (from nbconvert; extra == \"all\"->IPython[all]->-r requirements.txt (line 13)) (0.8.4)\n",
      "Requirement already satisfied: widgetsnbextension~=3.5.0 in c:\\users\\richh\\.conda\\envs\\python 3-6\\lib\\site-packages (from ipywidgets; extra == \"all\"->IPython[all]->-r requirements.txt (line 13)) (3.5.1)\n",
      "Requirement already satisfied: qtpy in c:\\users\\richh\\.conda\\envs\\python 3-6\\lib\\site-packages (from qtconsole; extra == \"all\"->IPython[all]->-r requirements.txt (line 13)) (1.9.0)\n",
      "Requirement already satisfied: importlib-metadata; python_version < \"3.8\" in c:\\users\\richh\\.conda\\envs\\python 3-6\\lib\\site-packages (from markdown>=2.6.8->tensorboard<1.14.0,>=1.13.0->tensorflow==1.13.2->-r requirements.txt (line 7)) (1.7.0)\n",
      "Requirement already satisfied: pywin32>=1.0; sys_platform == \"win32\" in c:\\users\\richh\\.conda\\envs\\python 3-6\\lib\\site-packages (from jupyter-core>=4.6.1->notebook; extra == \"all\"->IPython[all]->-r requirements.txt (line 13)) (227)\n",
      "Requirement already satisfied: cffi>=1.0.0 in c:\\users\\richh\\.conda\\envs\\python 3-6\\lib\\site-packages (from argon2-cffi->notebook; extra == \"all\"->IPython[all]->-r requirements.txt (line 13)) (1.14.2)\n",
      "Requirement already satisfied: MarkupSafe>=0.23 in c:\\users\\richh\\.conda\\envs\\python 3-6\\lib\\site-packages (from jinja2->notebook; extra == \"all\"->IPython[all]->-r requirements.txt (line 13)) (1.1.1)\n",
      "Requirement already satisfied: pyrsistent>=0.14.0 in c:\\users\\richh\\.conda\\envs\\python 3-6\\lib\\site-packages (from jsonschema!=2.5.0,>=2.4->nbformat; extra == \"all\"->IPython[all]->-r requirements.txt (line 13)) (0.16.0)\n",
      "Requirement already satisfied: attrs>=17.4.0 in c:\\users\\richh\\.conda\\envs\\python 3-6\\lib\\site-packages (from jsonschema!=2.5.0,>=2.4->nbformat; extra == \"all\"->IPython[all]->-r requirements.txt (line 13)) (20.1.0)\n",
      "Requirement already satisfied: pytz>=2015.7 in c:\\users\\richh\\.conda\\envs\\python 3-6\\lib\\site-packages (from babel>=1.3->Sphinx>=1.3; extra == \"all\"->IPython[all]->-r requirements.txt (line 13)) (2020.1)\n",
      "Requirement already satisfied: webencodings in c:\\users\\richh\\.conda\\envs\\python 3-6\\lib\\site-packages (from bleach->nbconvert; extra == \"all\"->IPython[all]->-r requirements.txt (line 13)) (0.5.1)\n",
      "Requirement already satisfied: zipp>=0.5 in c:\\users\\richh\\.conda\\envs\\python 3-6\\lib\\site-packages (from importlib-metadata; python_version < \"3.8\"->markdown>=2.6.8->tensorboard<1.14.0,>=1.13.0->tensorflow==1.13.2->-r requirements.txt (line 7)) (3.1.0)\n",
      "Requirement already satisfied: pycparser in c:\\users\\richh\\.conda\\envs\\python 3-6\\lib\\site-packages (from cffi>=1.0.0->argon2-cffi->notebook; extra == \"all\"->IPython[all]->-r requirements.txt (line 13)) (2.20)\n"
     ]
    },
    {
     "name": "stderr",
     "output_type": "stream",
     "text": [
      "ERROR:root:<class 'Exception'>\n",
      "WARNING:root:Fail load requirements file, so using default ones.\n",
      "zip_safe flag not set; analyzing archive contents...\n"
     ]
    },
    {
     "name": "stdout",
     "output_type": "stream",
     "text": [
      "running install\n",
      "running bdist_egg\n",
      "running egg_info\n",
      "writing mask_rcnn.egg-info\\PKG-INFO\n",
      "writing dependency_links to mask_rcnn.egg-info\\dependency_links.txt\n",
      "writing top-level names to mask_rcnn.egg-info\\top_level.txt\n",
      "reading manifest file 'mask_rcnn.egg-info\\SOURCES.txt'\n",
      "reading manifest template 'MANIFEST.in'\n",
      "writing manifest file 'mask_rcnn.egg-info\\SOURCES.txt'\n",
      "installing library code to build\\bdist.win-amd64\\egg\n",
      "running install_lib\n",
      "running build_py\n",
      "creating build\\bdist.win-amd64\\egg\n",
      "creating build\\bdist.win-amd64\\egg\\mrcnn\n",
      "copying build\\lib\\mrcnn\\config.py -> build\\bdist.win-amd64\\egg\\mrcnn\n",
      "copying build\\lib\\mrcnn\\model copy.py -> build\\bdist.win-amd64\\egg\\mrcnn\n",
      "copying build\\lib\\mrcnn\\model.py -> build\\bdist.win-amd64\\egg\\mrcnn\n",
      "copying build\\lib\\mrcnn\\parallel_model.py -> build\\bdist.win-amd64\\egg\\mrcnn\n",
      "copying build\\lib\\mrcnn\\utils copy.py -> build\\bdist.win-amd64\\egg\\mrcnn\n",
      "copying build\\lib\\mrcnn\\utils.py -> build\\bdist.win-amd64\\egg\\mrcnn\n",
      "copying build\\lib\\mrcnn\\visualize.py -> build\\bdist.win-amd64\\egg\\mrcnn\n",
      "copying build\\lib\\mrcnn\\__init__.py -> build\\bdist.win-amd64\\egg\\mrcnn\n",
      "byte-compiling build\\bdist.win-amd64\\egg\\mrcnn\\config.py to config.cpython-36.pyc\n",
      "byte-compiling build\\bdist.win-amd64\\egg\\mrcnn\\model copy.py to model copy.cpython-36.pyc\n",
      "byte-compiling build\\bdist.win-amd64\\egg\\mrcnn\\model.py to model.cpython-36.pyc\n",
      "byte-compiling build\\bdist.win-amd64\\egg\\mrcnn\\parallel_model.py to parallel_model.cpython-36.pyc\n",
      "byte-compiling build\\bdist.win-amd64\\egg\\mrcnn\\utils copy.py to utils copy.cpython-36.pyc\n",
      "byte-compiling build\\bdist.win-amd64\\egg\\mrcnn\\utils.py to utils.cpython-36.pyc\n",
      "byte-compiling build\\bdist.win-amd64\\egg\\mrcnn\\visualize.py to visualize.cpython-36.pyc\n",
      "byte-compiling build\\bdist.win-amd64\\egg\\mrcnn\\__init__.py to __init__.cpython-36.pyc\n",
      "creating build\\bdist.win-amd64\\egg\\EGG-INFO\n",
      "copying mask_rcnn.egg-info\\PKG-INFO -> build\\bdist.win-amd64\\egg\\EGG-INFO\n",
      "copying mask_rcnn.egg-info\\SOURCES.txt -> build\\bdist.win-amd64\\egg\\EGG-INFO\n",
      "copying mask_rcnn.egg-info\\dependency_links.txt -> build\\bdist.win-amd64\\egg\\EGG-INFO\n",
      "copying mask_rcnn.egg-info\\top_level.txt -> build\\bdist.win-amd64\\egg\\EGG-INFO\n",
      "creating 'dist\\mask_rcnn-2.1-py3.6.egg' and adding 'build\\bdist.win-amd64\\egg' to it\n",
      "removing 'build\\bdist.win-amd64\\egg' (and everything under it)\n",
      "Processing mask_rcnn-2.1-py3.6.egg\n",
      "Removing c:\\users\\richh\\.conda\\envs\\python 3-6\\lib\\site-packages\\mask_rcnn-2.1-py3.6.egg\n",
      "Copying mask_rcnn-2.1-py3.6.egg to c:\\users\\richh\\.conda\\envs\\python 3-6\\lib\\site-packages\n",
      "mask-rcnn 2.1 is already the active version in easy-install.pth\n",
      "\n",
      "Installed c:\\users\\richh\\.conda\\envs\\python 3-6\\lib\\site-packages\\mask_rcnn-2.1-py3.6.egg\n",
      "Processing dependencies for mask-rcnn==2.1\n",
      "Finished processing dependencies for mask-rcnn==2.1\n"
     ]
    }
   ],
   "source": [
    "# %cd ~/Mask_RCNN\n",
    "\n",
    "# !pip install -q PyDrive\n",
    "!pip install -r requirements.txt\n",
    "!python setup.py install"
   ]
  },
  {
   "cell_type": "markdown",
   "metadata": {
    "colab_type": "text",
    "id": "6zZg68_koGU7"
   },
   "source": [
    "#Download and extract dataset\n",
    "Update fileId variable with Google Drive id of your image.zip dataset\n"
   ]
  },
  {
   "cell_type": "code",
   "execution_count": 3,
   "metadata": {
    "colab": {
     "base_uri": "https://localhost:8080/",
     "height": 0
    },
    "colab_type": "code",
    "id": "p3KxhAII1PDT",
    "outputId": "e8e64f59-d00e-4acc-daaf-e81331fb5ca0"
   },
   "outputs": [],
   "source": [
    "# %cd ~/Mask_RCNN\n",
    "\n",
    "\n",
    "# fileId = '1p11kagop07-LyNyTIQ5_bDHx6I2TSDN9'\n",
    "\n",
    "# import os\n",
    "# from zipfile import ZipFile\n",
    "# from shutil import copy\n",
    "# from pydrive.auth import GoogleAuth\n",
    "# from pydrive.drive import GoogleDrive\n",
    "# from google.colab import auth\n",
    "# from oauth2client.client import GoogleCredentials\n",
    "\n",
    "# os.makedirs('dataset')\n",
    "# os.chdir('dataset')\n",
    "\n",
    "# auth.authenticate_user()\n",
    "# gauth = GoogleAuth()\n",
    "# gauth.credentials = GoogleCredentials.get_application_default()\n",
    "# drive = GoogleDrive(gauth)\n",
    "\n",
    "# fileName = fileId + '.zip'\n",
    "# downloaded = drive.CreateFile({'id': fileId})\n",
    "# downloaded.GetContentFile(fileName)\n",
    "# ds = ZipFile(fileName)\n",
    "# ds.extractall()\n",
    "# os.remove(fileName)\n",
    "# print('Extracted zip file ' + fileName)"
   ]
  },
  {
   "cell_type": "markdown",
   "metadata": {
    "colab_type": "text",
    "id": "4Hjjc40apLpd"
   },
   "source": [
    "#Edit settings file\n",
    "*  find and replace occurrences of \"balloon\" and \"Balloon\" with name of your object\n",
    "*  set epochs number\n"
   ]
  },
  {
   "cell_type": "code",
   "execution_count": 12,
   "metadata": {
    "colab": {
     "base_uri": "https://localhost:8080/",
     "height": 0
    },
    "colab_type": "code",
    "id": "0SVHFnl5Hwe3",
    "outputId": "6dd8aa49-17e3-4461-d2aa-885a50c1a35b"
   },
   "outputs": [
    {
     "name": "stdout",
     "output_type": "stream",
     "text": [
      "Collecting tensorflow==1.13.2\n"
     ]
    },
    {
     "name": "stderr",
     "output_type": "stream",
     "text": [
      "  ERROR: HTTP error 404 while getting https://storage.googleapis.com/tensorflow/windows/gpu/tensorflow-1.13.2-cp36-cp36m-win_amd64.whl\n",
      "ERROR: Could not install requirement tensorflow==1.13.2 from https://storage.googleapis.com/tensorflow/windows/gpu/tensorflow-1.13.2-cp36-cp36m-win_amd64.whl because of HTTP error 404 Client Error: Not Found for url: https://storage.googleapis.com/tensorflow/windows/gpu/tensorflow-1.13.2-cp36-cp36m-win_amd64.whl for URL https://storage.googleapis.com/tensorflow/windows/gpu/tensorflow-1.13.2-cp36-cp36m-win_amd64.whl\n"
     ]
    }
   ],
   "source": [
    "# %cd ~/Mask_RCNN\n",
    "\n",
    "# !cp ~/Mask_RCNN/samples/balloon/balloon.py ./vehicle.py\n",
    "\n",
    "# !sed -i -- 's/balloon/vehicle/g' vehicle.py\n",
    "# !sed -i -- 's/Balloon/Vehicle/g' vehicle.py\n",
    "# !sed -i -- 's/epochs=30/epochs=5/g' vehicle.py\n",
    "# !pip uninstall protobuf\n",
    "# !pip uninstall tensorflow-gpu\n",
    "# !pip install tensorflow@1.13.2\n",
    "# !pip install tensorflow-gpu@1.13.2\n",
    "# !pip install --upgrade https://storage.googleapis.com/tensorflow/windows/gpu/tensorflow_gpu-1.13.2-cp36-cp36m-win_amd64.whl"
   ]
  },
  {
   "cell_type": "markdown",
   "metadata": {
    "colab_type": "text",
    "id": "AjmxrVOwq0rC"
   },
   "source": [
    "#Train model\n",
    "Pretrained weights options are COCO, ImageNet or a model trained before"
   ]
  },
  {
   "cell_type": "code",
   "execution_count": 14,
   "metadata": {
    "colab": {
     "base_uri": "https://localhost:8080/",
     "height": 1000
    },
    "colab_type": "code",
    "id": "EJGrimv2Xuf3",
    "outputId": "19080960-e94d-4b3e-ff82-262cfe3b6e76"
   },
   "outputs": [
    {
     "name": "stderr",
     "output_type": "stream",
     "text": [
      "Traceback (most recent call last):\n",
      "  File \"C:\\Users\\richh\\.conda\\envs\\Python 3-6\\lib\\site-packages\\tensorflow\\python\\pywrap_tensorflow.py\", line 58, in <module>\n",
      "    from tensorflow.python.pywrap_tensorflow_internal import *\n",
      "  File \"C:\\Users\\richh\\.conda\\envs\\Python 3-6\\lib\\site-packages\\tensorflow\\python\\pywrap_tensorflow_internal.py\", line 28, in <module>\n",
      "    _pywrap_tensorflow_internal = swig_import_helper()\n",
      "  File \"C:\\Users\\richh\\.conda\\envs\\Python 3-6\\lib\\site-packages\\tensorflow\\python\\pywrap_tensorflow_internal.py\", line 24, in swig_import_helper\n",
      "    _mod = imp.load_module('_pywrap_tensorflow_internal', fp, pathname, description)\n",
      "  File \"C:\\Users\\richh\\.conda\\envs\\Python 3-6\\lib\\imp.py\", line 243, in load_module\n",
      "    return load_dynamic(name, filename, file)\n",
      "  File \"C:\\Users\\richh\\.conda\\envs\\Python 3-6\\lib\\imp.py\", line 343, in load_dynamic\n",
      "    return _load(spec)\n",
      "ImportError: DLL load failed: The specified module could not be found.\n",
      "\n",
      "During handling of the above exception, another exception occurred:\n",
      "\n",
      "Traceback (most recent call last):\n",
      "  File \"vehicle.py\", line 43, in <module>\n",
      "    from mrcnn import model as modellib, utils\n",
      "  File \"C:\\Users\\richh\\Documents\\GitHub\\Mask_RCNN\\mrcnn\\model.py\", line 19, in <module>\n",
      "    import tensorflow as tf\n",
      "  File \"C:\\Users\\richh\\.conda\\envs\\Python 3-6\\lib\\site-packages\\tensorflow\\__init__.py\", line 24, in <module>\n",
      "    from tensorflow.python import pywrap_tensorflow  # pylint: disable=unused-import\n",
      "  File \"C:\\Users\\richh\\.conda\\envs\\Python 3-6\\lib\\site-packages\\tensorflow\\python\\__init__.py\", line 49, in <module>\n",
      "    from tensorflow.python import pywrap_tensorflow\n",
      "  File \"C:\\Users\\richh\\.conda\\envs\\Python 3-6\\lib\\site-packages\\tensorflow\\python\\pywrap_tensorflow.py\", line 74, in <module>\n",
      "    raise ImportError(msg)\n",
      "ImportError: Traceback (most recent call last):\n",
      "  File \"C:\\Users\\richh\\.conda\\envs\\Python 3-6\\lib\\site-packages\\tensorflow\\python\\pywrap_tensorflow.py\", line 58, in <module>\n",
      "    from tensorflow.python.pywrap_tensorflow_internal import *\n",
      "  File \"C:\\Users\\richh\\.conda\\envs\\Python 3-6\\lib\\site-packages\\tensorflow\\python\\pywrap_tensorflow_internal.py\", line 28, in <module>\n",
      "    _pywrap_tensorflow_internal = swig_import_helper()\n",
      "  File \"C:\\Users\\richh\\.conda\\envs\\Python 3-6\\lib\\site-packages\\tensorflow\\python\\pywrap_tensorflow_internal.py\", line 24, in swig_import_helper\n",
      "    _mod = imp.load_module('_pywrap_tensorflow_internal', fp, pathname, description)\n",
      "  File \"C:\\Users\\richh\\.conda\\envs\\Python 3-6\\lib\\imp.py\", line 243, in load_module\n",
      "    return load_dynamic(name, filename, file)\n",
      "  File \"C:\\Users\\richh\\.conda\\envs\\Python 3-6\\lib\\imp.py\", line 343, in load_dynamic\n",
      "    return _load(spec)\n",
      "ImportError: DLL load failed: The specified module could not be found.\n",
      "\n",
      "\n",
      "Failed to load the native TensorFlow runtime.\n",
      "\n",
      "See https://www.tensorflow.org/install/errors\n",
      "\n",
      "for some common reasons and solutions.  Include the entire stack trace\n",
      "above this error message when asking for help.\n"
     ]
    }
   ],
   "source": [
    "# %cd ~/Mask_RCNN\n",
    "\n",
    "!python vehicle.py train --dataset=dataset/ --weights=coco"
   ]
  },
  {
   "cell_type": "markdown",
   "metadata": {
    "colab_type": "text",
    "id": "laqF3Tihrqs3"
   },
   "source": [
    "#Run inference on test dataset"
   ]
  },
  {
   "cell_type": "code",
   "execution_count": 6,
   "metadata": {
    "colab": {
     "base_uri": "https://localhost:8080/",
     "height": 229
    },
    "colab_type": "code",
    "id": "2o7dH-mRX2A0",
    "outputId": "df6f33fb-576b-4b23-8625-d46531f57a06"
   },
   "outputs": [
    {
     "ename": "ImportError",
     "evalue": "Traceback (most recent call last):\n  File \"C:\\Users\\richh\\.conda\\envs\\Python 3-6\\lib\\site-packages\\tensorflow\\python\\pywrap_tensorflow.py\", line 58, in <module>\n    from tensorflow.python.pywrap_tensorflow_internal import *\n  File \"C:\\Users\\richh\\.conda\\envs\\Python 3-6\\lib\\site-packages\\tensorflow\\python\\pywrap_tensorflow_internal.py\", line 28, in <module>\n    _pywrap_tensorflow_internal = swig_import_helper()\n  File \"C:\\Users\\richh\\.conda\\envs\\Python 3-6\\lib\\site-packages\\tensorflow\\python\\pywrap_tensorflow_internal.py\", line 24, in swig_import_helper\n    _mod = imp.load_module('_pywrap_tensorflow_internal', fp, pathname, description)\n  File \"C:\\Users\\richh\\.conda\\envs\\Python 3-6\\lib\\imp.py\", line 243, in load_module\n    return load_dynamic(name, filename, file)\n  File \"C:\\Users\\richh\\.conda\\envs\\Python 3-6\\lib\\imp.py\", line 343, in load_dynamic\n    return _load(spec)\nImportError: DLL load failed: The specified module could not be found.\n\n\nFailed to load the native TensorFlow runtime.\n\nSee https://www.tensorflow.org/install/errors\n\nfor some common reasons and solutions.  Include the entire stack trace\nabove this error message when asking for help.",
     "output_type": "error",
     "traceback": [
      "\u001b[1;31m---------------------------------------------------------------------------\u001b[0m",
      "\u001b[1;31mImportError\u001b[0m                               Traceback (most recent call last)",
      "\u001b[1;32m~\\.conda\\envs\\Python 3-6\\lib\\site-packages\\tensorflow\\python\\pywrap_tensorflow.py\u001b[0m in \u001b[0;36m<module>\u001b[1;34m\u001b[0m\n\u001b[0;32m     57\u001b[0m \u001b[1;33m\u001b[0m\u001b[0m\n\u001b[1;32m---> 58\u001b[1;33m   \u001b[1;32mfrom\u001b[0m \u001b[0mtensorflow\u001b[0m\u001b[1;33m.\u001b[0m\u001b[0mpython\u001b[0m\u001b[1;33m.\u001b[0m\u001b[0mpywrap_tensorflow_internal\u001b[0m \u001b[1;32mimport\u001b[0m \u001b[1;33m*\u001b[0m\u001b[1;33m\u001b[0m\u001b[1;33m\u001b[0m\u001b[0m\n\u001b[0m\u001b[0;32m     59\u001b[0m   \u001b[1;32mfrom\u001b[0m \u001b[0mtensorflow\u001b[0m\u001b[1;33m.\u001b[0m\u001b[0mpython\u001b[0m\u001b[1;33m.\u001b[0m\u001b[0mpywrap_tensorflow_internal\u001b[0m \u001b[1;32mimport\u001b[0m \u001b[0m__version__\u001b[0m\u001b[1;33m\u001b[0m\u001b[1;33m\u001b[0m\u001b[0m\n",
      "\u001b[1;32m~\\.conda\\envs\\Python 3-6\\lib\\site-packages\\tensorflow\\python\\pywrap_tensorflow_internal.py\u001b[0m in \u001b[0;36m<module>\u001b[1;34m\u001b[0m\n\u001b[0;32m     27\u001b[0m             \u001b[1;32mreturn\u001b[0m \u001b[0m_mod\u001b[0m\u001b[1;33m\u001b[0m\u001b[1;33m\u001b[0m\u001b[0m\n\u001b[1;32m---> 28\u001b[1;33m     \u001b[0m_pywrap_tensorflow_internal\u001b[0m \u001b[1;33m=\u001b[0m \u001b[0mswig_import_helper\u001b[0m\u001b[1;33m(\u001b[0m\u001b[1;33m)\u001b[0m\u001b[1;33m\u001b[0m\u001b[1;33m\u001b[0m\u001b[0m\n\u001b[0m\u001b[0;32m     29\u001b[0m     \u001b[1;32mdel\u001b[0m \u001b[0mswig_import_helper\u001b[0m\u001b[1;33m\u001b[0m\u001b[1;33m\u001b[0m\u001b[0m\n",
      "\u001b[1;32m~\\.conda\\envs\\Python 3-6\\lib\\site-packages\\tensorflow\\python\\pywrap_tensorflow_internal.py\u001b[0m in \u001b[0;36mswig_import_helper\u001b[1;34m()\u001b[0m\n\u001b[0;32m     23\u001b[0m             \u001b[1;32mtry\u001b[0m\u001b[1;33m:\u001b[0m\u001b[1;33m\u001b[0m\u001b[1;33m\u001b[0m\u001b[0m\n\u001b[1;32m---> 24\u001b[1;33m                 \u001b[0m_mod\u001b[0m \u001b[1;33m=\u001b[0m \u001b[0mimp\u001b[0m\u001b[1;33m.\u001b[0m\u001b[0mload_module\u001b[0m\u001b[1;33m(\u001b[0m\u001b[1;34m'_pywrap_tensorflow_internal'\u001b[0m\u001b[1;33m,\u001b[0m \u001b[0mfp\u001b[0m\u001b[1;33m,\u001b[0m \u001b[0mpathname\u001b[0m\u001b[1;33m,\u001b[0m \u001b[0mdescription\u001b[0m\u001b[1;33m)\u001b[0m\u001b[1;33m\u001b[0m\u001b[1;33m\u001b[0m\u001b[0m\n\u001b[0m\u001b[0;32m     25\u001b[0m             \u001b[1;32mfinally\u001b[0m\u001b[1;33m:\u001b[0m\u001b[1;33m\u001b[0m\u001b[1;33m\u001b[0m\u001b[0m\n",
      "\u001b[1;32m~\\.conda\\envs\\Python 3-6\\lib\\imp.py\u001b[0m in \u001b[0;36mload_module\u001b[1;34m(name, file, filename, details)\u001b[0m\n\u001b[0;32m    242\u001b[0m         \u001b[1;32melse\u001b[0m\u001b[1;33m:\u001b[0m\u001b[1;33m\u001b[0m\u001b[1;33m\u001b[0m\u001b[0m\n\u001b[1;32m--> 243\u001b[1;33m             \u001b[1;32mreturn\u001b[0m \u001b[0mload_dynamic\u001b[0m\u001b[1;33m(\u001b[0m\u001b[0mname\u001b[0m\u001b[1;33m,\u001b[0m \u001b[0mfilename\u001b[0m\u001b[1;33m,\u001b[0m \u001b[0mfile\u001b[0m\u001b[1;33m)\u001b[0m\u001b[1;33m\u001b[0m\u001b[1;33m\u001b[0m\u001b[0m\n\u001b[0m\u001b[0;32m    244\u001b[0m     \u001b[1;32melif\u001b[0m \u001b[0mtype_\u001b[0m \u001b[1;33m==\u001b[0m \u001b[0mPKG_DIRECTORY\u001b[0m\u001b[1;33m:\u001b[0m\u001b[1;33m\u001b[0m\u001b[1;33m\u001b[0m\u001b[0m\n",
      "\u001b[1;32m~\\.conda\\envs\\Python 3-6\\lib\\imp.py\u001b[0m in \u001b[0;36mload_dynamic\u001b[1;34m(name, path, file)\u001b[0m\n\u001b[0;32m    342\u001b[0m             name=name, loader=loader, origin=path)\n\u001b[1;32m--> 343\u001b[1;33m         \u001b[1;32mreturn\u001b[0m \u001b[0m_load\u001b[0m\u001b[1;33m(\u001b[0m\u001b[0mspec\u001b[0m\u001b[1;33m)\u001b[0m\u001b[1;33m\u001b[0m\u001b[1;33m\u001b[0m\u001b[0m\n\u001b[0m\u001b[0;32m    344\u001b[0m \u001b[1;33m\u001b[0m\u001b[0m\n",
      "\u001b[1;31mImportError\u001b[0m: DLL load failed: The specified module could not be found.",
      "\nDuring handling of the above exception, another exception occurred:\n",
      "\u001b[1;31mImportError\u001b[0m                               Traceback (most recent call last)",
      "\u001b[1;32m<ipython-input-6-9c87237c5722>\u001b[0m in \u001b[0;36m<module>\u001b[1;34m\u001b[0m\n\u001b[0;32m      7\u001b[0m \u001b[1;32mimport\u001b[0m \u001b[0mtime\u001b[0m\u001b[1;33m\u001b[0m\u001b[1;33m\u001b[0m\u001b[0m\n\u001b[0;32m      8\u001b[0m \u001b[1;32mimport\u001b[0m \u001b[0mnumpy\u001b[0m \u001b[1;32mas\u001b[0m \u001b[0mnp\u001b[0m\u001b[1;33m\u001b[0m\u001b[1;33m\u001b[0m\u001b[0m\n\u001b[1;32m----> 9\u001b[1;33m \u001b[1;32mimport\u001b[0m \u001b[0mtensorflow\u001b[0m \u001b[1;32mas\u001b[0m \u001b[0mtf\u001b[0m\u001b[1;33m\u001b[0m\u001b[1;33m\u001b[0m\u001b[0m\n\u001b[0m\u001b[0;32m     10\u001b[0m \u001b[1;32mimport\u001b[0m \u001b[0mmatplotlib\u001b[0m\u001b[1;33m\u001b[0m\u001b[1;33m\u001b[0m\u001b[0m\n\u001b[0;32m     11\u001b[0m \u001b[1;32mimport\u001b[0m \u001b[0mmatplotlib\u001b[0m\u001b[1;33m.\u001b[0m\u001b[0mpyplot\u001b[0m \u001b[1;32mas\u001b[0m \u001b[0mplt\u001b[0m\u001b[1;33m\u001b[0m\u001b[1;33m\u001b[0m\u001b[0m\n",
      "\u001b[1;32m~\\.conda\\envs\\Python 3-6\\lib\\site-packages\\tensorflow\\__init__.py\u001b[0m in \u001b[0;36m<module>\u001b[1;34m\u001b[0m\n\u001b[0;32m     22\u001b[0m \u001b[1;33m\u001b[0m\u001b[0m\n\u001b[0;32m     23\u001b[0m \u001b[1;31m# pylint: disable=g-bad-import-order\u001b[0m\u001b[1;33m\u001b[0m\u001b[1;33m\u001b[0m\u001b[1;33m\u001b[0m\u001b[0m\n\u001b[1;32m---> 24\u001b[1;33m \u001b[1;32mfrom\u001b[0m \u001b[0mtensorflow\u001b[0m\u001b[1;33m.\u001b[0m\u001b[0mpython\u001b[0m \u001b[1;32mimport\u001b[0m \u001b[0mpywrap_tensorflow\u001b[0m  \u001b[1;31m# pylint: disable=unused-import\u001b[0m\u001b[1;33m\u001b[0m\u001b[1;33m\u001b[0m\u001b[0m\n\u001b[0m\u001b[0;32m     25\u001b[0m \u001b[1;33m\u001b[0m\u001b[0m\n\u001b[0;32m     26\u001b[0m \u001b[1;32mfrom\u001b[0m \u001b[0mtensorflow\u001b[0m\u001b[1;33m.\u001b[0m\u001b[0m_api\u001b[0m\u001b[1;33m.\u001b[0m\u001b[0mv1\u001b[0m \u001b[1;32mimport\u001b[0m \u001b[0mapp\u001b[0m\u001b[1;33m\u001b[0m\u001b[1;33m\u001b[0m\u001b[0m\n",
      "\u001b[1;32m~\\.conda\\envs\\Python 3-6\\lib\\site-packages\\tensorflow\\python\\__init__.py\u001b[0m in \u001b[0;36m<module>\u001b[1;34m\u001b[0m\n\u001b[0;32m     47\u001b[0m \u001b[1;32mimport\u001b[0m \u001b[0mnumpy\u001b[0m \u001b[1;32mas\u001b[0m \u001b[0mnp\u001b[0m\u001b[1;33m\u001b[0m\u001b[1;33m\u001b[0m\u001b[0m\n\u001b[0;32m     48\u001b[0m \u001b[1;33m\u001b[0m\u001b[0m\n\u001b[1;32m---> 49\u001b[1;33m \u001b[1;32mfrom\u001b[0m \u001b[0mtensorflow\u001b[0m\u001b[1;33m.\u001b[0m\u001b[0mpython\u001b[0m \u001b[1;32mimport\u001b[0m \u001b[0mpywrap_tensorflow\u001b[0m\u001b[1;33m\u001b[0m\u001b[1;33m\u001b[0m\u001b[0m\n\u001b[0m\u001b[0;32m     50\u001b[0m \u001b[1;33m\u001b[0m\u001b[0m\n\u001b[0;32m     51\u001b[0m \u001b[1;31m# Protocol buffers\u001b[0m\u001b[1;33m\u001b[0m\u001b[1;33m\u001b[0m\u001b[1;33m\u001b[0m\u001b[0m\n",
      "\u001b[1;32m~\\.conda\\envs\\Python 3-6\\lib\\site-packages\\tensorflow\\python\\pywrap_tensorflow.py\u001b[0m in \u001b[0;36m<module>\u001b[1;34m\u001b[0m\n\u001b[0;32m     72\u001b[0m \u001b[1;32mfor\u001b[0m \u001b[0msome\u001b[0m \u001b[0mcommon\u001b[0m \u001b[0mreasons\u001b[0m \u001b[1;32mand\u001b[0m \u001b[0msolutions\u001b[0m\u001b[1;33m.\u001b[0m  \u001b[0mInclude\u001b[0m \u001b[0mthe\u001b[0m \u001b[0mentire\u001b[0m \u001b[0mstack\u001b[0m \u001b[0mtrace\u001b[0m\u001b[1;33m\u001b[0m\u001b[1;33m\u001b[0m\u001b[0m\n\u001b[0;32m     73\u001b[0m above this error message when asking for help.\"\"\" % traceback.format_exc()\n\u001b[1;32m---> 74\u001b[1;33m   \u001b[1;32mraise\u001b[0m \u001b[0mImportError\u001b[0m\u001b[1;33m(\u001b[0m\u001b[0mmsg\u001b[0m\u001b[1;33m)\u001b[0m\u001b[1;33m\u001b[0m\u001b[1;33m\u001b[0m\u001b[0m\n\u001b[0m\u001b[0;32m     75\u001b[0m \u001b[1;33m\u001b[0m\u001b[0m\n\u001b[0;32m     76\u001b[0m \u001b[1;31m# pylint: enable=wildcard-import,g-import-not-at-top,unused-import,line-too-long\u001b[0m\u001b[1;33m\u001b[0m\u001b[1;33m\u001b[0m\u001b[1;33m\u001b[0m\u001b[0m\n",
      "\u001b[1;31mImportError\u001b[0m: Traceback (most recent call last):\n  File \"C:\\Users\\richh\\.conda\\envs\\Python 3-6\\lib\\site-packages\\tensorflow\\python\\pywrap_tensorflow.py\", line 58, in <module>\n    from tensorflow.python.pywrap_tensorflow_internal import *\n  File \"C:\\Users\\richh\\.conda\\envs\\Python 3-6\\lib\\site-packages\\tensorflow\\python\\pywrap_tensorflow_internal.py\", line 28, in <module>\n    _pywrap_tensorflow_internal = swig_import_helper()\n  File \"C:\\Users\\richh\\.conda\\envs\\Python 3-6\\lib\\site-packages\\tensorflow\\python\\pywrap_tensorflow_internal.py\", line 24, in swig_import_helper\n    _mod = imp.load_module('_pywrap_tensorflow_internal', fp, pathname, description)\n  File \"C:\\Users\\richh\\.conda\\envs\\Python 3-6\\lib\\imp.py\", line 243, in load_module\n    return load_dynamic(name, filename, file)\n  File \"C:\\Users\\richh\\.conda\\envs\\Python 3-6\\lib\\imp.py\", line 343, in load_dynamic\n    return _load(spec)\nImportError: DLL load failed: The specified module could not be found.\n\n\nFailed to load the native TensorFlow runtime.\n\nSee https://www.tensorflow.org/install/errors\n\nfor some common reasons and solutions.  Include the entire stack trace\nabove this error message when asking for help."
     ]
    }
   ],
   "source": [
    "import os\n",
    "import cv2\n",
    "import sys\n",
    "import random\n",
    "import math\n",
    "import re\n",
    "import time\n",
    "import numpy as np\n",
    "import tensorflow as tf\n",
    "import matplotlib\n",
    "import matplotlib.pyplot as plt\n",
    "import matplotlib.patches as patches\n",
    "import skimage\n",
    "import glob\n",
    "from mrcnn import utils\n",
    "from mrcnn import visualize\n",
    "from mrcnn.visualize import display_images\n",
    "import mrcnn.model as modellib\n",
    "from mrcnn.model import log\n",
    "\n",
    "import vehicle\n",
    "\n",
    "# Root directory of the project\n",
    "ROOT_DIR = os.getcwd()\n",
    "\n",
    "# Import Mask RCNN\n",
    "sys.path.append(ROOT_DIR)  # To find local version of the library\n",
    "\n",
    "custom_WEIGHTS_PATH = sorted(glob.glob(\"/logs/*/mask_rcnn_*.h5\"))[-1]\n",
    "\n",
    "%matplotlib inline \n",
    "\n",
    "# Directory to save logs and trained model\n",
    "MODEL_DIR = os.path.join(ROOT_DIR, \"logs\")\n",
    "\n",
    "config = vehicle.VehicleConfig()\n",
    "custom_DIR = os.path.join(ROOT_DIR, \"dataset\")\n",
    "\n",
    "class InferenceConfig(config.__class__):\n",
    "    # Run detection on one image at a time\n",
    "    GPU_COUNT = 1\n",
    "    IMAGES_PER_GPU = 1\n",
    "\n",
    "config = InferenceConfig()\n",
    "config.display()\n",
    "\n",
    "# Device to load the neural network on.\n",
    "# Useful if you're training a model on the same \n",
    "# machine, in which case use CPU and leave the\n",
    "# GPU for training.\n",
    "DEVICE = \"/gpu:0\"  # /cpu:0 or /gpu:0\n",
    "\n",
    "# Inspect the model in training or inference modes\n",
    "# values: 'inference' or 'training'\n",
    "# TODO: code for 'training' test mode not ready yet\n",
    "TEST_MODE = \"inference\"\n",
    "\n",
    "def get_ax(rows=1, cols=1, size=16):\n",
    "    \"\"\"Return a Matplotlib Axes array to be used in\n",
    "    all visualizations in the notebook. Provide a\n",
    "    central point to control graph sizes.\n",
    "    \n",
    "    Adjust the size attribute to control how big to render images\n",
    "    \"\"\"\n",
    "    _, ax = plt.subplots(rows, cols, figsize=(size*cols, size*rows))\n",
    "    return ax\n",
    "  \n",
    "# Load validation dataset\n",
    "dataset = vehicle.VehicleDataset()\n",
    "dataset.load_vehicle(custom_DIR, \"val\")\n",
    "\n",
    "# Must call before using the dataset\n",
    "dataset.prepare()\n",
    "\n",
    "print(\"Images: {}\\nClasses: {}\".format(len(dataset.image_ids), dataset.class_names))\n",
    "\n",
    "# Create model in inference mode\n",
    "with tf.device(DEVICE):\n",
    "    model = modellib.MaskRCNN(mode=\"inference\", model_dir=MODEL_DIR,\n",
    "                              config=config)\n",
    "\n",
    "# load the last model you trained\n",
    "# weights_path = model.find_last()[1]\n",
    "\n",
    "# Load weights\n",
    "print(\"Loading weights \", custom_WEIGHTS_PATH)\n",
    "model.load_weights(custom_WEIGHTS_PATH, by_name=True)\n",
    "\n",
    "from importlib import reload # was constantly changin the visualization, so I decided to reload it instead of notebook\n",
    "reload(visualize)"
   ]
  },
  {
   "cell_type": "code",
   "execution_count": null,
   "metadata": {
    "colab": {},
    "colab_type": "code",
    "id": "X7iSzccTL9hM"
   },
   "outputs": [],
   "source": [
    "#image_id = random.choice(dataset.image_ids)\n",
    "for image_id in dataset.image_ids:\n",
    "  image, image_meta, gt_class_id, gt_bbox, gt_mask =\\\n",
    "      modellib.load_image_gt(dataset, config, image_id, use_mini_mask=False)\n",
    "  info = dataset.image_info[image_id]\n",
    "  print(\"image ID: {}.{} ({}) {}\".format(info[\"source\"], info[\"id\"], image_id, \n",
    "                                         dataset.image_reference(image_id)))\n",
    "\n",
    "  # Run object detection\n",
    "  results = model.detect([image], verbose=1)\n",
    "\n",
    "  # Display results\n",
    "  ax = get_ax(1)\n",
    "  r = results[0]\n",
    "  visualize.display_instances(image, r['rois'], r['masks'], r['class_ids'], \n",
    "                              dataset.class_names, r['scores'], ax=ax,\n",
    "                              title=\"Predictions\")\n",
    "  log(\"gt_class_id\", gt_class_id)\n",
    "  log(\"gt_bbox\", gt_bbox)\n",
    "  log(\"gt_mask\", gt_mask)"
   ]
  }
 ],
 "metadata": {
  "accelerator": "GPU",
  "colab": {
   "collapsed_sections": [
    "6zZg68_koGU7",
    "4Hjjc40apLpd"
   ],
   "machine_shape": "hm",
   "name": "Copy of maskrcnn_custom_tf_colab.ipynb",
   "provenance": []
  },
  "kernelspec": {
   "display_name": "Python 3",
   "language": "python",
   "name": "python3"
  },
  "language_info": {
   "codemirror_mode": {
    "name": "ipython",
    "version": 3
   },
   "file_extension": ".py",
   "mimetype": "text/x-python",
   "name": "python",
   "nbconvert_exporter": "python",
   "pygments_lexer": "ipython3",
   "version": "3.6.10"
  }
 },
 "nbformat": 4,
 "nbformat_minor": 1
}
